{
 "cells": [
  {
   "cell_type": "markdown",
   "id": "agreed-efficiency",
   "metadata": {},
   "source": [
    "# SCRAPING FROM AMAZON\n",
    "\n",
    "#### **This is a code that gets the name of the product, the title of the review, the number of stars given, and the full comment from the review page of a product you want from Amazon.com. I took airpods 2 comments as an example here**\n",
    "\n",
    "\n",
    "#### Required libraries\n",
    "\n",
    "- requests\n",
    "- BeautifulSoup from bs4\n",
    "- pandas\n",
    "\n",
    "\n",
    "##### After importing our libraries, we define an empty list to convert to dataframe structure after receiving our comments.\n",
    "##### We use the header structure (User-Agent) so that the Amazon site does not consider us as robots and prevent us from pulling data.\n",
    "##### We define the function that we send a request to the site (get_soup). We send a request by typing the link of the product we want into \"requests.get\" and adding \"headers\" to the end. With BeautifulSoup, we split the data from the lxml method. (can also be done in html)\n",
    "##### Then, with the \"get_reviews\" function, we select the previously obtained data as product, title, rating and body part according to the html structure.\n",
    "##### Finally, we take the product parts in each comment and put it in the empty directory (reviewlist) we defined at the beginning and save it as an excel file. Using the for loop with range, we determine from the beginning how many pages of comments we want to receive. The if part at the end of the for loop is to avoid an error when the last page is reached."
   ]
  },
  {
   "cell_type": "code",
   "execution_count": 15,
   "id": "australian-discussion",
   "metadata": {},
   "outputs": [],
   "source": [
    "import requests\n",
    "from bs4 import BeautifulSoup\n",
    "import pandas as pd"
   ]
  },
  {
   "cell_type": "code",
   "execution_count": 16,
   "id": "cross-organ",
   "metadata": {},
   "outputs": [],
   "source": [
    "reviewlist = []"
   ]
  },
  {
   "cell_type": "code",
   "execution_count": 17,
   "id": "stretch-coffee",
   "metadata": {},
   "outputs": [],
   "source": [
    "header = {\n",
    "    'Host': 'www.amazon.com',\n",
    "    'User-Agent': 'Mozilla/5.0 (X11; Linux x86_64) AppleWebKit/537.36 (KHTML, like Gecko) Chrome/90.0.4430.93 Safari/537.36',\n",
    "    'Accept': 'text/html,application/xhtml+xml,application/xml;q=0.9,*/*;q=0.8',\n",
    "    'Connection': 'keep-alive',\n",
    "    'Upgrade-Insecure-Requests': '1',\n",
    "    'TE': 'Trailers'\n",
    "}"
   ]
  },
  {
   "cell_type": "code",
   "execution_count": 18,
   "id": "romance-spice",
   "metadata": {},
   "outputs": [],
   "source": [
    "def get_soup(url):\n",
    "    req = requests.get(\"https://www.amazon.com/Apple-AirPods-Charging-Case-Renewed/product-reviews/B07SKLLYTW/ref=cm_cr_dp_d_show_all_btm?ie=UTF8&reviewerType=all_reviews\", headers = header)\n",
    "    soup = BeautifulSoup(req.content, \"lxml\")\n",
    "    return soup"
   ]
  },
  {
   "cell_type": "code",
   "execution_count": 22,
   "id": "complex-liquid",
   "metadata": {},
   "outputs": [
    {
     "name": "stdout",
     "output_type": "stream",
     "text": [
      "Amazon.com: Customer reviews: Apple AirPods 2 with Charging Case - White (Renewed)\n"
     ]
    }
   ],
   "source": [
    "print(soup.title.text)"
   ]
  },
  {
   "cell_type": "code",
   "execution_count": 23,
   "id": "minus-simon",
   "metadata": {},
   "outputs": [],
   "source": [
    "def get_reviews(soup):\n",
    "    reviews = soup.find_all('div', {'data-hook': 'review'})\n",
    "    try:\n",
    "        for item in reviews:\n",
    "            review = {\n",
    "            'product' : soup.title.text.replace('Amazon.com: Customer reviews:', '').strip(),\n",
    "            'title': item.find('a', {'data-hook': 'review-title'}).text.strip(),\n",
    "            'rating':  float(item.find('i', {'data-hook': 'review-star-rating'}).text.replace('out of 5 stars', '').strip()),\n",
    "            'body': item.find('span', {'data-hook': 'review-body'}).text.strip(),\n",
    "            }\n",
    "            reviewlist.append(review)\n",
    "    except:\n",
    "        pass"
   ]
  },
  {
   "cell_type": "code",
   "execution_count": 24,
   "id": "healthy-illustration",
   "metadata": {},
   "outputs": [
    {
     "name": "stdout",
     "output_type": "stream",
     "text": [
      "Getting page: 1\n",
      "60\n",
      "Getting page: 2\n",
      "70\n",
      "Getting page: 3\n",
      "80\n",
      "Getting page: 4\n",
      "90\n",
      "Getting page: 5\n",
      "100\n",
      "Fin.\n"
     ]
    }
   ],
   "source": [
    "for x in range(1,6):\n",
    "    soup = get_soup(f'https://www.amazon.com/Apple-AirPods-Charging-Case-Renewed/product-reviews/B07SKLLYTW/ref=cm_cr_dp_d_show_all_btm?ie=UTF8&reviewerType=all_reviews&pageNumber={x}')\n",
    "    print(f'Getting page: {x}')\n",
    "    get_reviews(soup)\n",
    "    print(len(reviewlist))\n",
    "    if not soup.find('li', {'class': 'a-disabled a-last'}):\n",
    "        pass\n",
    "    else:\n",
    "        break\n",
    "\n",
    "df = pd.DataFrame(reviewlist)\n",
    "df.to_excel('abcdefg.xlsx', index=False)\n",
    "print('May the force be with you!')"
   ]
  },
  {
   "cell_type": "code",
   "execution_count": null,
   "id": "powered-prefix",
   "metadata": {},
   "outputs": [],
   "source": []
  },
  {
   "cell_type": "code",
   "execution_count": null,
   "id": "gross-bullet",
   "metadata": {},
   "outputs": [],
   "source": []
  }
 ],
 "metadata": {
  "kernelspec": {
   "display_name": "Python 3",
   "language": "python",
   "name": "python3"
  },
  "language_info": {
   "codemirror_mode": {
    "name": "ipython",
    "version": 3
   },
   "file_extension": ".py",
   "mimetype": "text/x-python",
   "name": "python",
   "nbconvert_exporter": "python",
   "pygments_lexer": "ipython3",
   "version": "3.7.9"
  }
 },
 "nbformat": 4,
 "nbformat_minor": 5
}
